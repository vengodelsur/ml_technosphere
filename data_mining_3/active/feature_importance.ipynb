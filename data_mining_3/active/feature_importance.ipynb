{
 "cells": [
  {
   "cell_type": "code",
   "execution_count": 1,
   "metadata": {},
   "outputs": [],
   "source": [
    "from sklearn.ensemble import RandomForestRegressor\n",
    "from sklearn.tree import DecisionTreeRegressor"
   ]
  },
  {
   "cell_type": "code",
   "execution_count": 2,
   "metadata": {},
   "outputs": [],
   "source": [
    "import re\n",
    "import numpy as np\n",
    "\n",
    "POINTS_PATH = 'points.txt'\n",
    "\n",
    "with open(POINTS_PATH, 'r') as f:\n",
    "    content = re.split(r'\\[|\\]', f.read())\n",
    "pairs = zip(content[1::2], content[2::2])\n",
    "\n",
    "X = []\n",
    "y = []\n",
    "\n",
    "for point, data in pairs:\n",
    "    point = np.array([np.float(p) for p in point.split()])\n",
    "\n",
    "    parsed_data = re.split(r'^\\tFunction value = |\\nAttempts left = ', data)\n",
    "    if (data != '\\tUNDIFINED\\n'):\n",
    "        result, attempts = [np.float(number)\n",
    "                                for number in parsed_data if number]\n",
    "    else:\n",
    "        if point[6] == 0:\n",
    "            result = 1000000\n",
    "        if point[9] == 0:\n",
    "            result = -1000000\n",
    "    \n",
    "    X.append(point)\n",
    "    y.append(result)\n",
    "\n",
    "X = np.array(X)\n",
    "y = np.array(y)"
   ]
  },
  {
   "cell_type": "code",
   "execution_count": 3,
   "metadata": {},
   "outputs": [],
   "source": [
    "X_boundary, y_boundary = X[0:11], y[0:11]"
   ]
  },
  {
   "cell_type": "code",
   "execution_count": 4,
   "metadata": {},
   "outputs": [
    {
     "data": {
      "text/plain": [
       "array([[ 0., 10., 10., 10., 10., 10., 10., 10., 10., 10.],\n",
       "       [10.,  0., 10., 10., 10., 10., 10., 10., 10., 10.],\n",
       "       [10., 10.,  0., 10., 10., 10., 10., 10., 10., 10.],\n",
       "       [10., 10., 10.,  0., 10., 10., 10., 10., 10., 10.],\n",
       "       [10., 10., 10., 10.,  0., 10., 10., 10., 10., 10.],\n",
       "       [10., 10., 10., 10., 10.,  0., 10., 10., 10., 10.],\n",
       "       [10., 10., 10., 10., 10., 10.,  0., 10., 10., 10.],\n",
       "       [10., 10., 10., 10., 10., 10., 10.,  0., 10., 10.],\n",
       "       [10., 10., 10., 10., 10., 10., 10., 10.,  0., 10.],\n",
       "       [10., 10., 10., 10., 10., 10., 10., 10., 10.,  0.],\n",
       "       [10., 10., 10., 10., 10., 10., 10., 10., 10., 10.]])"
      ]
     },
     "execution_count": 4,
     "metadata": {},
     "output_type": "execute_result"
    }
   ],
   "source": [
    "X_boundary"
   ]
  },
  {
   "cell_type": "code",
   "execution_count": 5,
   "metadata": {},
   "outputs": [],
   "source": [
    "X_median, y_median = X[-11:], y[-11:]"
   ]
  },
  {
   "cell_type": "code",
   "execution_count": 6,
   "metadata": {},
   "outputs": [
    {
     "data": {
      "text/plain": [
       "array([[2., 5., 5., 5., 5., 5., 5., 5., 5., 5.],\n",
       "       [5., 2., 5., 5., 5., 5., 5., 5., 5., 5.],\n",
       "       [5., 5., 2., 5., 5., 5., 5., 5., 5., 5.],\n",
       "       [5., 5., 5., 2., 5., 5., 5., 5., 5., 5.],\n",
       "       [5., 5., 5., 5., 2., 5., 5., 5., 5., 5.],\n",
       "       [5., 5., 5., 5., 5., 2., 5., 5., 5., 5.],\n",
       "       [5., 5., 5., 5., 5., 5., 2., 5., 5., 5.],\n",
       "       [5., 5., 5., 5., 5., 5., 5., 2., 5., 5.],\n",
       "       [5., 5., 5., 5., 5., 5., 5., 5., 2., 5.],\n",
       "       [5., 5., 5., 5., 5., 5., 5., 5., 5., 2.],\n",
       "       [5., 5., 5., 5., 5., 5., 5., 5., 5., 5.]])"
      ]
     },
     "execution_count": 6,
     "metadata": {},
     "output_type": "execute_result"
    }
   ],
   "source": [
    "X_median"
   ]
  },
  {
   "cell_type": "code",
   "execution_count": 7,
   "metadata": {},
   "outputs": [],
   "source": [
    "X_random, y_random = X[11:-11], y[11:-11]"
   ]
  },
  {
   "cell_type": "code",
   "execution_count": 8,
   "metadata": {},
   "outputs": [],
   "source": [
    "model = RandomForestRegressor()"
   ]
  },
  {
   "cell_type": "code",
   "execution_count": 9,
   "metadata": {},
   "outputs": [
    {
     "data": {
      "text/plain": [
       "RandomForestRegressor(bootstrap=True, criterion='mse', max_depth=None,\n",
       "           max_features='auto', max_leaf_nodes=None,\n",
       "           min_impurity_decrease=0.0, min_impurity_split=None,\n",
       "           min_samples_leaf=1, min_samples_split=2,\n",
       "           min_weight_fraction_leaf=0.0, n_estimators=10, n_jobs=1,\n",
       "           oob_score=False, random_state=None, verbose=0, warm_start=False)"
      ]
     },
     "execution_count": 9,
     "metadata": {},
     "output_type": "execute_result"
    }
   ],
   "source": [
    "model.fit(X_boundary, y_boundary)"
   ]
  },
  {
   "cell_type": "code",
   "execution_count": 10,
   "metadata": {},
   "outputs": [],
   "source": [
    "import matplotlib.pyplot as plt"
   ]
  },
  {
   "cell_type": "code",
   "execution_count": 11,
   "metadata": {},
   "outputs": [
    {
     "data": {
      "image/png": "[encoded data removed]",
      "text/plain": [
       "<Figure size 432x288 with 1 Axes>"
      ]
     },
     "metadata": {},
     "output_type": "display_data"
    }
   ],
   "source": [
    "plt.bar(np.arange(len(model.feature_importances_)),\n",
    "            model.feature_importances_)\n",
    "plt.show()"
   ]
  },
  {
   "cell_type": "code",
   "execution_count": 12,
   "metadata": {},
   "outputs": [
    {
     "data": {
      "text/plain": [
       "RandomForestRegressor(bootstrap=True, criterion='mse', max_depth=None,\n",
       "           max_features='auto', max_leaf_nodes=None,\n",
       "           min_impurity_decrease=0.0, min_impurity_split=None,\n",
       "           min_samples_leaf=1, min_samples_split=2,\n",
       "           min_weight_fraction_leaf=0.0, n_estimators=10, n_jobs=1,\n",
       "           oob_score=False, random_state=None, verbose=0, warm_start=False)"
      ]
     },
     "execution_count": 12,
     "metadata": {},
     "output_type": "execute_result"
    }
   ],
   "source": [
    "model.fit(X_median, y_median)"
   ]
  },
  {
   "cell_type": "code",
   "execution_count": 13,
   "metadata": {},
   "outputs": [
    {
     "data": {
      "image/png": "[encoded data removed]",
      "text/plain": [
       "<Figure size 432x288 with 1 Axes>"
      ]
     },
     "metadata": {},
     "output_type": "display_data"
    }
   ],
   "source": [
    "plt.bar(np.arange(len(model.feature_importances_)),\n",
    "            model.feature_importances_)\n",
    "plt.show()"
   ]
  },
  {
   "cell_type": "code",
   "execution_count": 14,
   "metadata": {},
   "outputs": [
    {
     "data": {
      "text/plain": [
       "RandomForestRegressor(bootstrap=True, criterion='mse', max_depth=None,\n",
       "           max_features='auto', max_leaf_nodes=None,\n",
       "           min_impurity_decrease=0.0, min_impurity_split=None,\n",
       "           min_samples_leaf=1, min_samples_split=2,\n",
       "           min_weight_fraction_leaf=0.0, n_estimators=10, n_jobs=1,\n",
       "           oob_score=False, random_state=None, verbose=0, warm_start=False)"
      ]
     },
     "execution_count": 14,
     "metadata": {},
     "output_type": "execute_result"
    }
   ],
   "source": [
    "model.fit(X_random, y_random)"
   ]
  },
  {
   "cell_type": "code",
   "execution_count": 15,
   "metadata": {},
   "outputs": [
    {
     "data": {
      "image/png": "[encoded data removed]",
      "text/plain": [
       "<Figure size 432x288 with 1 Axes>"
      ]
     },
     "metadata": {},
     "output_type": "display_data"
    }
   ],
   "source": [
    "plt.bar(np.arange(len(model.feature_importances_)),\n",
    "            model.feature_importances_)\n",
    "plt.show()"
   ]
  },
  {
   "cell_type": "code",
   "execution_count": 16,
   "metadata": {},
   "outputs": [],
   "source": [
    "#mask = [True, False, True, True, True, True, False, True, True, True] #1 and 6 omitted\n",
    "#mask = [True, False, True, True, True, True, True, True, True, True] #1 omitted\n",
    "#mask = [True, True, True, True, True, True, False, True, True, True] #6 omitted\n",
    "mask = [True, False, True, True, True, True, False, True, True, False] #1, 6, 9 omitted (for all of the above 9 is still important)\n"
   ]
  },
  {
   "cell_type": "code",
   "execution_count": 17,
   "metadata": {},
   "outputs": [
    {
     "data": {
      "text/plain": [
       "RandomForestRegressor(bootstrap=True, criterion='mse', max_depth=None,\n",
       "           max_features='auto', max_leaf_nodes=None,\n",
       "           min_impurity_decrease=0.0, min_impurity_split=None,\n",
       "           min_samples_leaf=1, min_samples_split=2,\n",
       "           min_weight_fraction_leaf=0.0, n_estimators=10, n_jobs=1,\n",
       "           oob_score=False, random_state=None, verbose=0, warm_start=False)"
      ]
     },
     "execution_count": 17,
     "metadata": {},
     "output_type": "execute_result"
    }
   ],
   "source": [
    "model.fit(X_boundary[:, mask], y_boundary)"
   ]
  },
  {
   "cell_type": "code",
   "execution_count": 18,
   "metadata": {},
   "outputs": [],
   "source": [
    "kept_features = np.where(mask)[0]"
   ]
  },
  {
   "cell_type": "code",
   "execution_count": 19,
   "metadata": {},
   "outputs": [
    {
     "data": {
      "image/png": "[encoded data removed]",
      "text/plain": [
       "<Figure size 432x288 with 1 Axes>"
      ]
     },
     "metadata": {},
     "output_type": "display_data"
    }
   ],
   "source": [
    "plt.bar(kept_features,\n",
    "            model.feature_importances_)\n",
    "plt.show()"
   ]
  },
  {
   "cell_type": "code",
   "execution_count": 20,
   "metadata": {},
   "outputs": [
    {
     "data": {
      "text/plain": [
       "RandomForestRegressor(bootstrap=True, criterion='mse', max_depth=None,\n",
       "           max_features='auto', max_leaf_nodes=None,\n",
       "           min_impurity_decrease=0.0, min_impurity_split=None,\n",
       "           min_samples_leaf=1, min_samples_split=2,\n",
       "           min_weight_fraction_leaf=0.0, n_estimators=10, n_jobs=1,\n",
       "           oob_score=False, random_state=None, verbose=0, warm_start=False)"
      ]
     },
     "execution_count": 20,
     "metadata": {},
     "output_type": "execute_result"
    }
   ],
   "source": [
    "model.fit(X_median[:, mask], y_median)"
   ]
  },
  {
   "cell_type": "code",
   "execution_count": 21,
   "metadata": {},
   "outputs": [
    {
     "data": {
      "image/png": "[encoded data removed]",
      "text/plain": [
       "<Figure size 432x288 with 1 Axes>"
      ]
     },
     "metadata": {},
     "output_type": "display_data"
    }
   ],
   "source": [
    "plt.bar(kept_features,\n",
    "            model.feature_importances_)\n",
    "plt.show()"
   ]
  },
  {
   "cell_type": "code",
   "execution_count": 22,
   "metadata": {},
   "outputs": [
    {
     "data": {
      "text/plain": [
       "RandomForestRegressor(bootstrap=True, criterion='mse', max_depth=None,\n",
       "           max_features='auto', max_leaf_nodes=None,\n",
       "           min_impurity_decrease=0.0, min_impurity_split=None,\n",
       "           min_samples_leaf=1, min_samples_split=2,\n",
       "           min_weight_fraction_leaf=0.0, n_estimators=10, n_jobs=1,\n",
       "           oob_score=False, random_state=None, verbose=0, warm_start=False)"
      ]
     },
     "execution_count": 22,
     "metadata": {},
     "output_type": "execute_result"
    }
   ],
   "source": [
    "model.fit(X_random[:, mask], y_random)"
   ]
  },
  {
   "cell_type": "code",
   "execution_count": 23,
   "metadata": {},
   "outputs": [
    {
     "data": {
      "image/png": "[encoded data removed]",
      "text/plain": [
       "<Figure size 432x288 with 1 Axes>"
      ]
     },
     "metadata": {},
     "output_type": "display_data"
    }
   ],
   "source": [
    "plt.bar(kept_features,\n",
    "            model.feature_importances_)\n",
    "plt.show()"
   ]
  },
  {
   "cell_type": "code",
   "execution_count": 24,
   "metadata": {},
   "outputs": [],
   "source": [
    "X_sorted, y_sorted = zip(*sorted(zip(X[:,1], y)))"
   ]
  },
  {
   "cell_type": "code",
   "execution_count": 25,
   "metadata": {},
   "outputs": [
    {
     "data": {
      "image/png": "[encoded data removed]",
      "text/plain": [
       "<Figure size 432x288 with 1 Axes>"
      ]
     },
     "metadata": {},
     "output_type": "display_data"
    }
   ],
   "source": [
    "plt.bar(X_sorted, y_sorted)\n",
    "plt.yscale('log')\n",
    "plt.show()"
   ]
  },
  {
   "cell_type": "code",
   "execution_count": 26,
   "metadata": {},
   "outputs": [],
   "source": [
    "X_sorted, y_sorted = zip(*sorted(zip(X[:,6], y)))"
   ]
  },
  {
   "cell_type": "code",
   "execution_count": 27,
   "metadata": {},
   "outputs": [
    {
     "data": {
      "image/png": "[encoded data removed]",
      "text/plain": [
       "<Figure size 432x288 with 1 Axes>"
      ]
     },
     "metadata": {},
     "output_type": "display_data"
    }
   ],
   "source": [
    "plt.bar(X_sorted, y_sorted)\n",
    "plt.yscale('log')\n",
    "plt.show()"
   ]
  },
  {
   "cell_type": "code",
   "execution_count": 28,
   "metadata": {},
   "outputs": [],
   "source": [
    "X_sorted, y_sorted = zip(*sorted(zip(X[:,9], y)))"
   ]
  },
  {
   "cell_type": "code",
   "execution_count": 29,
   "metadata": {},
   "outputs": [
    {
     "data": {
      "image/png": "[encoded data removed]",
      "text/plain": [
       "<Figure size 432x288 with 1 Axes>"
      ]
     },
     "metadata": {},
     "output_type": "display_data"
    }
   ],
   "source": [
    "plt.bar(X_sorted, y_sorted)\n",
    "plt.yscale('log')\n",
    "plt.show()"
   ]
  },
  {
   "cell_type": "code",
   "execution_count": 30,
   "metadata": {},
   "outputs": [
    {
     "data": {
      "text/plain": [
       "[(0.0, 10000000.0),\n",
       " (0.04920567, 25.4506893322),\n",
       " (0.05366258, 5.30236651632),\n",
       " (0.70557902, 8.68407831764),\n",
       " (1.01928422, -7.11619919917),\n",
       " (1.12865355, 4.11302400233),\n",
       " (1.2488838, -12.7762884138),\n",
       " (1.52372281, -3.91430303944),\n",
       " (2.0, -1.14823804616),\n",
       " (2.11247068, 5.73755146414),\n",
       " (2.40471159, -9.53066768301),\n",
       " (2.91158458, -24.3390885509),\n",
       " (3.22353914, -12.1031205743),\n",
       " (3.89700353, -2.90389930592),\n",
       " (3.9536382, -7.68927332894),\n",
       " (3.97306015, -29.192743441),\n",
       " (4.10983811, -3.11533115169),\n",
       " (4.24914962, -3.98514356877),\n",
       " (4.29164217, -2.11047403424),\n",
       " (4.51229691, -13.5054946071),\n",
       " (5.0, -22.6576949238),\n",
       " (5.0, -17.6091044425),\n",
       " (5.0, -17.3293768762),\n",
       " (5.0, -17.0969213442),\n",
       " (5.0, -16.9053564096),\n",
       " (5.0, -16.7293768762),\n",
       " (5.0, -16.7293768762),\n",
       " (5.0, -16.7293768762),\n",
       " (5.0, -15.2293768762),\n",
       " (5.0, -1.72937687625),\n",
       " (5.20482661, -14.9490332975),\n",
       " (5.45684679, -24.6993298062),\n",
       " (5.98865986, -29.7796491033),\n",
       " (6.17495474, -10.0811128943),\n",
       " (6.57620044, -44.506590892),\n",
       " (6.60894007, -58.3712404998),\n",
       " (6.63424028, -18.8492590373),\n",
       " (6.88415316, -27.1443871134),\n",
       " (6.95913235, -20.6772384951),\n",
       " (7.523313, -33.079014374),\n",
       " (7.63847157, -30.1237219527),\n",
       " (8.0273602, -19.5388080253),\n",
       " (8.41409529, -73.1224608194),\n",
       " (8.67359873, -14.5702032956),\n",
       " (8.71908216, -14.9101454713),\n",
       " (8.73341133, -70.5222395691),\n",
       " (8.94037723, -68.1443456523),\n",
       " (8.94263752, -20.016656729),\n",
       " (9.09565104, -50.2746485178),\n",
       " (9.63224077, -1.37647634899),\n",
       " (9.65748977, -63.4270263644),\n",
       " (9.79099918, -57.4762214747),\n",
       " (9.96613598, 10.66110674),\n",
       " (10.0, -10000000.0),\n",
       " (10.0, -97.8892084137),\n",
       " (10.0, -96.4126097877),\n",
       " (10.0, -96.4126097877),\n",
       " (10.0, -95.7258714752),\n",
       " (10.0, -95.4126097877),\n",
       " (10.0, -95.4126097877),\n",
       " (10.0, -95.4126097877),\n",
       " (10.0, -93.220816281),\n",
       " (10.0, 4.58739021228)]"
      ]
     },
     "execution_count": 30,
     "metadata": {},
     "output_type": "execute_result"
    }
   ],
   "source": [
    "sorted(zip(X[:,6], y))"
   ]
  },
  {
   "cell_type": "code",
   "execution_count": 31,
   "metadata": {},
   "outputs": [
    {
     "data": {
      "text/plain": [
       "[(0.0, -10000000.0),\n",
       " (0.29027576, -29.192743441),\n",
       " (0.32974314, 10.66110674),\n",
       " (0.564395432, -3.11533115169),\n",
       " (0.74609523, -63.4270263644),\n",
       " (0.75838905, -33.079014374),\n",
       " (1.06355027, -24.3390885509),\n",
       " (1.2686549, -1.37647634899),\n",
       " (1.61063918, -14.5702032956),\n",
       " (1.69230337, 4.11302400233),\n",
       " (1.73436973, -24.6993298062),\n",
       " (2.0, -15.2293768762),\n",
       " (2.28398984, 5.73755146414),\n",
       " (2.3380324, 25.4506893322),\n",
       " (2.47696785, -9.53066768301),\n",
       " (3.17099939, -3.91430303944),\n",
       " (3.3110876, -12.1031205743),\n",
       " (3.37307081, -70.5222395691),\n",
       " (3.42061609, 5.30236651632),\n",
       " (3.66050022, -29.7796491033),\n",
       " (3.77105948, -58.3712404998),\n",
       " (3.79571619, -10.0811128943),\n",
       " (3.99476947, -14.9101454713),\n",
       " (4.05258056, 8.68407831764),\n",
       " (4.37409752, -13.5054946071),\n",
       " (4.61422223, -73.1224608194),\n",
       " (4.8536459, -3.98514356877),\n",
       " (5.0, -22.6576949238),\n",
       " (5.0, -17.6091044425),\n",
       " (5.0, -17.3293768762),\n",
       " (5.0, -17.0969213442),\n",
       " (5.0, -16.9053564096),\n",
       " (5.0, -16.7293768762),\n",
       " (5.0, -16.7293768762),\n",
       " (5.0, -16.7293768762),\n",
       " (5.0, -1.72937687625),\n",
       " (5.0, -1.14823804616),\n",
       " (5.07835425, -2.11047403424),\n",
       " (5.16584572, -68.1443456523),\n",
       " (6.11029155, -7.11619919917),\n",
       " (6.25936585, -18.8492590373),\n",
       " (6.34491426, -12.7762884138),\n",
       " (6.35254184, -14.9490332975),\n",
       " (6.48765184, -50.2746485178),\n",
       " (6.54215435, -57.4762214747),\n",
       " (7.15808791, -20.016656729),\n",
       " (7.2467085, -7.68927332894),\n",
       " (8.24854979, -27.1443871134),\n",
       " (8.53166692, -19.5388080253),\n",
       " (8.63650945, -20.6772384951),\n",
       " (8.82534091, -2.90389930592),\n",
       " (9.21203107, -44.506590892),\n",
       " (9.91940998, -30.1237219527),\n",
       " (10.0, -97.8892084137),\n",
       " (10.0, -96.4126097877),\n",
       " (10.0, -96.4126097877),\n",
       " (10.0, -95.7258714752),\n",
       " (10.0, -95.4126097877),\n",
       " (10.0, -95.4126097877),\n",
       " (10.0, -95.4126097877),\n",
       " (10.0, -93.220816281),\n",
       " (10.0, 4.58739021228),\n",
       " (10.0, 10000000.0)]"
      ]
     },
     "execution_count": 31,
     "metadata": {},
     "output_type": "execute_result"
    }
   ],
   "source": [
    "sorted(zip(X[:,9], y))"
   ]
  },
  {
   "cell_type": "markdown",
   "metadata": {},
   "source": [
    "0 по фиче 6 +\n",
    "0 по фиче 9 -"
   ]
  },
  {
   "cell_type": "markdown",
   "metadata": {},
   "source": [
    "при 6 важны 1 и иногда 9\n",
    "при 1 важны 6 и иногда 9"
   ]
  },
  {
   "cell_type": "code",
   "execution_count": 32,
   "metadata": {},
   "outputs": [],
   "source": [
    "X_fit, y_fit = X[0:-11], y[0:-11]"
   ]
  },
  {
   "cell_type": "code",
   "execution_count": 33,
   "metadata": {},
   "outputs": [
    {
     "data": {
      "text/plain": [
       "array([-666739, -783367,  -83400, -583395, -783398,  249921, -783367,\n",
       "       -200062, -633404, -783367, -783367,     -32,     -10,     -52,\n",
       "           -12,     -12,     -68,     -22,     -22,     -13,       0,\n",
       "           -24,      -6,      -4,     -20,     -62,     -19,      -7,\n",
       "           -26,     -39,     -28,      10,     -54,     -17,     -39,\n",
       "           -18,     -28,     -25,       3,      -1,     -27,     -59,\n",
       "           -25,     -10,     -19,     -25,     -12,      -8,      -5,\n",
       "            -7,     -40,     -35])"
      ]
     },
     "execution_count": 33,
     "metadata": {},
     "output_type": "execute_result"
    }
   ],
   "source": [
    "model.fit(X_fit[:,mask], y_fit).predict(X_fit[:,mask]).astype(int)"
   ]
  },
  {
   "cell_type": "code",
   "execution_count": 34,
   "metadata": {},
   "outputs": [],
   "source": [
    "from pickle import dump\n",
    "with open('rf_inf.pkl', 'wb') as f:\n",
    "    dump(model, f) "
   ]
  },
  {
   "cell_type": "code",
   "execution_count": 35,
   "metadata": {},
   "outputs": [],
   "source": [
    "import pandas as pd\n",
    "X_test = pd.read_csv('data.txt', sep=' ', header=None)"
   ]
  },
  {
   "cell_type": "code",
   "execution_count": 36,
   "metadata": {},
   "outputs": [],
   "source": [
    "X_test['Expected'] = model.predict(X_test.values[:, mask])"
   ]
  },
  {
   "cell_type": "code",
   "execution_count": 37,
   "metadata": {},
   "outputs": [],
   "source": [
    "X_test['Id'] = X_test.index + 1"
   ]
  },
  {
   "cell_type": "code",
   "execution_count": 38,
   "metadata": {},
   "outputs": [],
   "source": [
    "X_test[['Id', 'Expected']].to_csv('submit_rf_inf.csv', index=False)"
   ]
  },
  {
   "cell_type": "code",
   "execution_count": null,
   "metadata": {},
   "outputs": [],
   "source": []
  }
 ],
 "metadata": {
  "kernelspec": {
   "display_name": "Python 3",
   "language": "python",
   "name": "python3"
  },
  "language_info": {
   "codemirror_mode": {
    "name": "ipython",
    "version": 3
   },
   "file_extension": ".py",
   "mimetype": "text/x-python",
   "name": "python",
   "nbconvert_exporter": "python",
   "pygments_lexer": "ipython3",
   "version": "3.6.6"
  }
 },
 "nbformat": 4,
 "nbformat_minor": 2
}
