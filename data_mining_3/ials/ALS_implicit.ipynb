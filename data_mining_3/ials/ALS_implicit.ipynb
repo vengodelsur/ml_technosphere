{
 "cells": [
  {
   "cell_type": "code",
   "execution_count": 1,
   "metadata": {},
   "outputs": [],
   "source": [
    "import numpy as np\n",
    "from scipy.sparse import csr_matrix\n",
    "from numba import jit\n",
    "from pickle import dump, load\n",
    "import pandas as pd"
   ]
  },
  {
   "cell_type": "code",
   "execution_count": 25,
   "metadata": {},
   "outputs": [],
   "source": [
    "def load_data():\n",
    "    with open('data/train.txt', 'r') as f:\n",
    "        data = f.readlines()\n",
    "    data = np.array([line.strip().split('\\t') for line in data], dtype=np.int64)\n",
    "    users, items, ratings = data.T\n",
    "    users -= 1\n",
    "    items -= 1\n",
    "    data_matrix = csr_matrix((ratings,(users,items))).toarray()\n",
    "    \n",
    "    with open('test.txt', 'r') as f:\n",
    "        test = f.readlines()\n",
    "    test = np.array([line.strip().split('\\t') for line in test], dtype=np.int64)\n",
    "    \n",
    "    return data, data_matrix, test"
   ]
  },
  {
   "cell_type": "code",
   "execution_count": 26,
   "metadata": {},
   "outputs": [],
   "source": [
    "data, data_matrix, test = load_data()"
   ]
  },
  {
   "cell_type": "code",
   "execution_count": 27,
   "metadata": {},
   "outputs": [
    {
     "data": {
      "text/plain": [
       "array([[5, 3, 4, ..., 0, 0, 0],\n",
       "       [4, 0, 0, ..., 0, 0, 0],\n",
       "       [0, 0, 0, ..., 0, 0, 0],\n",
       "       ...,\n",
       "       [5, 0, 0, ..., 0, 0, 0],\n",
       "       [0, 0, 0, ..., 0, 0, 0],\n",
       "       [0, 5, 0, ..., 0, 0, 0]], dtype=int64)"
      ]
     },
     "execution_count": 27,
     "metadata": {},
     "output_type": "execute_result"
    }
   ],
   "source": [
    "data_matrix"
   ]
  },
  {
   "cell_type": "code",
   "execution_count": 4,
   "metadata": {},
   "outputs": [],
   "source": [
    "class ALS:\n",
    "    def __init__(self, data_matrix, alpha=7):\n",
    "        were_rated = data_matrix > 0\n",
    "        ratings = data_matrix#.astype(np.float64)\n",
    "        ratings[np.logical_not(were_rated)] = np.mean(ratings[were_rated])\n",
    "        self.were_rated = were_rated\n",
    "        self.preference = ratings\n",
    "        self.alpha = alpha\n",
    "        self.confidence = 1 + self.alpha*ratings\n",
    "        self.n_users, self.n_items = data_matrix.shape\n",
    "    \n",
    "    def fit(self, n_factors=5, iterations=15, l=0.1, initializer_coefficient=0.01):\n",
    "        self.n_factors = n_factors\n",
    "        self.iterations = iterations\n",
    "        self.l = l\n",
    "        self.initializer_coefficient = initializer_coefficient\n",
    "        \n",
    "        user_factor = self.initializer_coefficient * np.random.rand(self.n_users, self.n_factors) # X\n",
    "        item_factor = self.initializer_coefficient * np.random.rand(self.n_factors, self.n_items) # Y\n",
    "        lI = l * np.identity(n_factors)\n",
    "\n",
    "\n",
    "        for i in range(self.iterations):\n",
    "    \n",
    "            for user, Cu in enumerate(self.confidence):\n",
    "                YtCuY = np.dot(Cu*item_factor, item_factor.T)#np.dot(ItemFactor, np.dot(np.diag(Cu), ItemFactor.T)\n",
    "                user_factor[user] = np.linalg.solve(YtCuY + lI,\n",
    "                               np.dot(item_factor, np.dot(np.diag(Cu), self.preference[user].T))).T #\n",
    "            for item, Ci in enumerate(self.confidence.T):\n",
    "                XtCiX = np.dot(Ci*user_factor.T, user_factor)#np.dot(UserFactor.T, np.dot(np.diag(Ci), UserFactor)\n",
    "                item_factor[:,item] = np.linalg.solve(XtCiX + lI,\n",
    "                                 np.dot(user_factor.T, np.dot(np.diag(Ci), self.preference[:, item]))) #\n",
    "        self.user_factor, self.item_factor = user_factor, item_factor"
   ]
  },
  {
   "cell_type": "code",
   "execution_count": 5,
   "metadata": {},
   "outputs": [],
   "source": [
    "model = ALS(data_matrix=data_matrix)"
   ]
  },
  {
   "cell_type": "code",
   "execution_count": 6,
   "metadata": {},
   "outputs": [],
   "source": [
    "model.fit()"
   ]
  },
  {
   "cell_type": "code",
   "execution_count": 8,
   "metadata": {},
   "outputs": [],
   "source": [
    "def get_error(Q, Predictions, W):\n",
    "    return np.sqrt(np.sum((W * (Q - Predictions))**2)/W.sum())"
   ]
  },
  {
   "cell_type": "code",
   "execution_count": 9,
   "metadata": {},
   "outputs": [],
   "source": [
    "U, I = model.user_factor, model.item_factor"
   ]
  },
  {
   "cell_type": "code",
   "execution_count": 10,
   "metadata": {},
   "outputs": [],
   "source": [
    "predictions = np.dot(U, I)"
   ]
  },
  {
   "cell_type": "code",
   "execution_count": 11,
   "metadata": {},
   "outputs": [
    {
     "data": {
      "text/plain": [
       "0.26554033082126893"
      ]
     },
     "execution_count": 11,
     "metadata": {},
     "output_type": "execute_result"
    }
   ],
   "source": [
    "get_error(data_matrix.astype(np.float64), predictions, data_matrix > 0)"
   ]
  },
  {
   "cell_type": "code",
   "execution_count": 28,
   "metadata": {},
   "outputs": [],
   "source": [
    "class ImplicitALS:\n",
    "    def __init__(self, data_matrix, alpha=7):\n",
    "        were_rated = data_matrix > 0\n",
    "        ratings = data_matrix.astype(np.float64)\n",
    "        ratings[np.logical_not(were_rated)] = np.mean(ratings[were_rated])\n",
    "        self.were_rated = were_rated\n",
    "        self.preference = ratings\n",
    "        self.alpha = alpha\n",
    "        self.confidence = 1 + self.alpha*ratings\n",
    "        self.n_users, self.n_items = data_matrix.shape\n",
    "    \n",
    "    def fit(self, n_factors=5, iterations=15, l=0.1, initializer_coefficient=0.01):\n",
    "        self.n_factors = n_factors\n",
    "        self.iterations = iterations\n",
    "        self.l = l\n",
    "        self.initializer_coefficient = initializer_coefficient\n",
    "        \n",
    "        user_factor = self.initializer_coefficient * np.random.rand(self.n_users, self.n_factors) # X\n",
    "        item_factor = self.initializer_coefficient * np.random.rand(self.n_items, self.n_factors) # Y\n",
    "        lI = l * np.identity(n_factors)\n",
    "\n",
    "\n",
    "        for i in range(self.iterations):\n",
    "    \n",
    "            for user, Cu in enumerate(self.confidence):\n",
    "                YtCuY = np.dot(Cu*item_factor.T, item_factor)#np.dot(ItemFactor, np.dot(np.diag(Cu), ItemFactor.T)\n",
    "                user_factor[user] = np.linalg.solve(YtCuY + lI,\n",
    "                               np.dot(item_factor.T, np.dot(np.diag(Cu), self.preference[user].T))).T #\n",
    "            for item, Ci in enumerate(self.confidence.T):\n",
    "                XtCiX = np.dot(Ci*user_factor.T, user_factor)#np.dot(UserFactor.T, np.dot(np.diag(Ci), UserFactor)\n",
    "                item_factor[item] = np.linalg.solve(XtCiX + lI,\n",
    "                                np.dot(user_factor.T, np.dot(np.diag(Ci), self.preference[:, item]))) #\n",
    "        self.user_factor, self.item_factor = user_factor, item_factor"
   ]
  },
  {
   "cell_type": "code",
   "execution_count": 29,
   "metadata": {},
   "outputs": [],
   "source": [
    "model = ImplicitALS(data_matrix=data_matrix)"
   ]
  },
  {
   "cell_type": "code",
   "execution_count": 30,
   "metadata": {},
   "outputs": [],
   "source": [
    "model.fit(iterations=1)"
   ]
  },
  {
   "cell_type": "code",
   "execution_count": 31,
   "metadata": {},
   "outputs": [],
   "source": [
    "U, I = model.user_factor, model.item_factor"
   ]
  },
  {
   "cell_type": "code",
   "execution_count": 32,
   "metadata": {},
   "outputs": [],
   "source": [
    "predictions = np.dot(U, I.T)"
   ]
  },
  {
   "cell_type": "code",
   "execution_count": 33,
   "metadata": {},
   "outputs": [
    {
     "data": {
      "text/plain": [
       "1.065890998442184"
      ]
     },
     "execution_count": 33,
     "metadata": {},
     "output_type": "execute_result"
    }
   ],
   "source": [
    "get_error(data_matrix.astype(np.float64), predictions, data_matrix > 0)"
   ]
  },
  {
   "cell_type": "code",
   "execution_count": 199,
   "metadata": {},
   "outputs": [],
   "source": [
    "class ImplicitALSBiasesPlain:\n",
    "    def __init__(self, data_matrix, test_indices, alpha=7, eps=0.02):\n",
    "        self.eps = eps\n",
    "        self.alpha = alpha\n",
    "        \n",
    "        self.were_rated_train = data_matrix > 0\n",
    "        self.were_rated_test = np.full_like(data_matrix, False)\n",
    "        self.were_rated_test[test_indices[:,0], test_indices[:,1]] = True\n",
    "        \n",
    "        ratings = data_matrix.astype(np.float64)\n",
    "        self.mean = np.mean(ratings[self.were_rated_train])\n",
    "        \n",
    "        \n",
    "        self.preference = data_matrix.astype(np.float64) - self.were_rated_train*self.mean\n",
    "        #self.preference[np.logical_not(self.were_rated_train)] = 0.5*self.mean # is fixed for test in the next line\n",
    "        #self.preference[self.were_rated_test] = self.mean\n",
    "        \n",
    "        self.confidence = data_matrix.astype(np.float64)\n",
    "        self.confidence[self.were_rated_test] = 0.85\n",
    "        #self.confidence = np.log(self.confidence/eps + 1)\n",
    "        self.confidence = 1 + alpha * np.log(1 + self.confidence / eps)\n",
    "        \n",
    "        #self.confidence = 1 + self.alpha*ratings\n",
    "        self.n_users, self.n_items = data_matrix.shape\n",
    "    \n",
    "    def fit(self, n_factors=5, iterations=15, l=0.1, initializer_coefficient=0.01):\n",
    "        self.n_factors = n_factors\n",
    "        self.iterations = iterations\n",
    "        self.l = l\n",
    "        self.initializer_coefficient = initializer_coefficient\n",
    "        \n",
    "        user_factor = self.initializer_coefficient * np.random.rand(self.n_users, self.n_factors + 1) # X change init\n",
    "        item_factor = self.initializer_coefficient * np.random.rand(self.n_items, self.n_factors + 1) # Y change init\n",
    "        lI = l * np.identity(n_factors + 1)\n",
    "        \n",
    "\n",
    "        user_bias = np.zeros(self.n_users)\n",
    "        item_bias = np.zeros(self.n_items)\n",
    "\n",
    "       \n",
    "\n",
    "        for i in range(self.iterations):\n",
    "            preference_user = self.preference - user_bias[:, None]\n",
    "            preference_item = self.preference - item_bias[None, :]\n",
    "            \n",
    "            user_factor[:, 0] = user_bias\n",
    "            item_factor[:, 0] = np.ones(self.n_items)\n",
    "            \n",
    "\n",
    "            YtY = np.dot(item_factor.T, item_factor)\n",
    "            \n",
    "            for user in range(self.n_users):\n",
    "                left = YtY + np.dot(item_factor.T * (self.confidence[user, :] - 1), item_factor) + lI\n",
    "                right = np.dot(item_factor.T * self.confidence[user, :], preference_item[user, :])\n",
    "                user_factor[user, :] = np.linalg.solve(left, right)\n",
    "\n",
    "            \n",
    "            user_bias = np.copy(user_factor[:, 0])\n",
    "            \n",
    "            \n",
    "            \n",
    "            \n",
    "            user_factor[:, 0] = np.ones(self.n_users)\n",
    "            item_factor[:, 0] = item_bias\n",
    "\n",
    "            XtX = np.dot(user_factor.T, user_factor)\n",
    "        \n",
    "            for item in range(self.n_items):\n",
    "                left = XtX + np.dot(user_factor.T * (self.confidence[:, item] - 1), user_factor) + lI\n",
    "                right = np.dot(user_factor.T * self.confidence[:, item], preference_user[:, item])\n",
    "                item_factor[item, :] = np.linalg.solve(left, right)\n",
    "                \n",
    "                \n",
    "            \n",
    "            item_bias = np.copy(item_factor[:, 0])\n",
    "            #for user, Cu in enumerate(self.confidence):\n",
    "                #YtCuY = np.dot(Cu*item_factor.T, item_factor)#np.dot(ItemFactor, np.dot(np.diag(Cu), ItemFactor.T)\n",
    "                #user_factor[user] = np.linalg.solve(YtCuY + lI,\n",
    "                               #np.dot(item_factor.T, np.dot(np.diag(Cu), self.preference[user].T))).T #\n",
    "            #for item, Ci in enumerate(self.confidence.T):\n",
    "                #XtCiX = np.dot(Ci*user_factor.T, user_factor)#np.dot(UserFactor.T, np.dot(np.diag(Ci), UserFactor)\n",
    "                #item_factor[item] = np.linalg.solve(XtCiX + lI,\n",
    "                                #np.dot(user_factor.T, np.dot(np.diag(Ci), self.preference[:, item]))) #\n",
    "        self.user_bias = user_bias\n",
    "        self.item_bias = item_bias\n",
    "        self.user_factor = user_factor[:, 1:]\n",
    "        self.item_factor = item_factor[:, 1:]"
   ]
  },
  {
   "cell_type": "code",
   "execution_count": 224,
   "metadata": {},
   "outputs": [],
   "source": [
    "model = ImplicitALSBiasesPlain(data_matrix=data_matrix, test_indices=test-1, eps=0.025, alpha=500)"
   ]
  },
  {
   "cell_type": "code",
   "execution_count": 225,
   "metadata": {},
   "outputs": [],
   "source": [
    "model.fit(iterations=200, n_factors=4, l=0.6)"
   ]
  },
  {
   "cell_type": "code",
   "execution_count": 226,
   "metadata": {},
   "outputs": [],
   "source": [
    "U, I = model.user_factor, model.item_factor"
   ]
  },
  {
   "cell_type": "code",
   "execution_count": 227,
   "metadata": {},
   "outputs": [],
   "source": [
    "predictions = np.dot(U, I.T)"
   ]
  },
  {
   "cell_type": "code",
   "execution_count": 228,
   "metadata": {},
   "outputs": [
    {
     "data": {
      "text/plain": [
       "array([[-4.64997646e-02,  1.02345605e-01,  4.94662143e-01, ...,\n",
       "        -9.37188287e-02, -3.31794427e-02, -2.93368447e-02],\n",
       "       [-1.61304809e-02,  1.45198707e-01,  5.46676761e-01, ...,\n",
       "        -2.19745803e-02, -2.92519173e-02,  1.65252444e-03],\n",
       "       [-4.38621432e-01, -4.83082161e-01,  6.94401243e-01, ...,\n",
       "         1.64419643e-01, -7.38786687e-02, -2.66580612e-01],\n",
       "       ...,\n",
       "       [-6.16087760e-02, -1.06124213e-01, -7.68298320e-01, ...,\n",
       "        -3.83247863e-01, -1.54888376e-02, -1.01624711e-01],\n",
       "       [ 1.29125985e-01,  4.19480086e-02, -1.34165719e+00, ...,\n",
       "         1.55533839e-01,  1.55007720e-02,  8.87717330e-02],\n",
       "       [ 1.25983403e-01,  3.73870034e-01,  1.69776376e+00, ...,\n",
       "        -9.12020317e-01,  2.34864697e-02, -5.80149037e-03]])"
      ]
     },
     "execution_count": 228,
     "metadata": {},
     "output_type": "execute_result"
    }
   ],
   "source": [
    "predictions"
   ]
  },
  {
   "cell_type": "code",
   "execution_count": 214,
   "metadata": {},
   "outputs": [],
   "source": [
    "version_name = 'biased_1log_eps0_02_alpha7_l0_6_factor4'"
   ]
  },
  {
   "cell_type": "code",
   "execution_count": 215,
   "metadata": {},
   "outputs": [],
   "source": [
    "with open ('models/'+version_name+'.pkl', 'wb') as f:\n",
    "    dump(model, f)"
   ]
  },
  {
   "cell_type": "code",
   "execution_count": 216,
   "metadata": {},
   "outputs": [],
   "source": [
    "def make_csv(predictions, test, version_name):\n",
    "    predictions = np.clip(predictions, 1, 5)\n",
    "    df = pd.DataFrame(predictions[test[:,0] - 1, test[:,1] - 1], columns=['Score'])\n",
    "    df.index += 1\n",
    "    df.index.name='Id' \n",
    "    df.to_csv('submissions/'+version_name+'.csv',index=True)"
   ]
  },
  {
   "cell_type": "code",
   "execution_count": 217,
   "metadata": {},
   "outputs": [],
   "source": [
    "make_csv(try_pred, test, version_name)"
   ]
  },
  {
   "cell_type": "code",
   "execution_count": null,
   "metadata": {},
   "outputs": [],
   "source": []
  }
 ],
 "metadata": {
  "kernelspec": {
   "display_name": "Python 3",
   "language": "python",
   "name": "python3"
  },
  "language_info": {
   "codemirror_mode": {
    "name": "ipython",
    "version": 3
   },
   "file_extension": ".py",
   "mimetype": "text/x-python",
   "name": "python",
   "nbconvert_exporter": "python",
   "pygments_lexer": "ipython3",
   "version": "3.6.6"
  }
 },
 "nbformat": 4,
 "nbformat_minor": 2
}
