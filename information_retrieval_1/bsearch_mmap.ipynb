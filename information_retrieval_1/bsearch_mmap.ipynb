{
 "cells": [
  {
   "cell_type": "code",
   "execution_count": 1,
   "metadata": {},
   "outputs": [
    {
     "name": "stdout",
     "output_type": "stream",
     "text": [
      "That should work! nfound=31\n"
     ]
    }
   ],
   "source": [
    "import mmap\n",
    "import os\n",
    "import random\n",
    "import struct\n",
    "import tempfile\n",
    "\n",
    "\n",
    "REC_SIZE = struct.calcsize('I') # our items is unsigned integers (4 bytes)\n",
    "\n",
    "# perform binary search using read() from file descriptor\n",
    "#   for each value\n",
    "def bsearch_reads(fd, n, x):\n",
    "    l, h = 0, n\n",
    "\n",
    "    while l < h:\n",
    "        mid = (l + h) // 2\n",
    "        \n",
    "        # read single integer from file\n",
    "        fd.seek(mid * REC_SIZE)\n",
    "        data = fd.read(REC_SIZE)\n",
    "        \n",
    "        val = struct.unpack('I', data)[0] #  The result is a tuple even if it contains exactly one item\n",
    "        if x == val:\n",
    "            return True\n",
    "        if x < val:\n",
    "            h = mid\n",
    "        else:\n",
    "            l = mid + 1\n",
    "\n",
    "    return False\n",
    "\n",
    "\n",
    "# perform binary within string 's' of binary data\n",
    "def bsearch_mmap(s, n, x):\n",
    "    l, h = 0, n\n",
    "\n",
    "    while l < h:\n",
    "        mid = (l + h) // 2\n",
    "        val = struct.unpack_from('I', s, mid*REC_SIZE)[0] #  The result is a tuple even if it contains exactly one item\n",
    "        if x == val:\n",
    "            return True\n",
    "        if x < val:\n",
    "            h = mid\n",
    "        else:\n",
    "            l = mid + 1\n",
    "\n",
    "    return False\n",
    "\n",
    "\n",
    "\n",
    "NNUMS = 10**5\n",
    "NUM_SPACE = NNUMS * 3\n",
    "\n",
    "nums = sorted(random.sample(xrange(NUM_SPACE), NNUMS))\n",
    "\n",
    "fd = tempfile.TemporaryFile()\n",
    "\n",
    "for x in nums:\n",
    "    fd.write(struct.pack('I', x))\n",
    "\n",
    "fd.seek(0)\n",
    "\n",
    "# mmap() our temporary file\n",
    "mem = mmap.mmap(fd.fileno(), 0, prot=mmap.PROT_READ)\n",
    "nfound = 0\n",
    "\n",
    "for _ in range(100):\n",
    "    x = random.randint(0, NUM_SPACE)\n",
    "    found_read = bsearch_reads(fd, len(nums), x)\n",
    "    found_mmap = bsearch_mmap(mem, len(nums), x)\n",
    "    if found_read != found_mmap:\n",
    "        raise RuntimeError(\"bsearch-es not be equal!\")\n",
    "    if found_read:\n",
    "        nfound += 1\n",
    "        \n",
    "print 'That should work! nfound=%d' % nfound"
   ]
  },
  {
   "cell_type": "code",
   "execution_count": null,
   "metadata": {},
   "outputs": [],
   "source": []
  }
 ],
 "metadata": {
  "kernelspec": {
   "display_name": "Python 2",
   "language": "python",
   "name": "python2"
  },
  "language_info": {
   "codemirror_mode": {
    "name": "ipython",
    "version": 2
   },
   "file_extension": ".py",
   "mimetype": "text/x-python",
   "name": "python",
   "nbconvert_exporter": "python",
   "pygments_lexer": "ipython2",
   "version": "2.7.12"
  }
 },
 "nbformat": 4,
 "nbformat_minor": 1
}
