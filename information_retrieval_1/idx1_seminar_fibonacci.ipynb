{
 "cells": [
  {
   "cell_type": "markdown",
   "metadata": {},
   "source": [
    "# Кодирование методом Фибоначчи\n",
    "\n",
    "\n",
    "Используем ряд чисел Фибонначи как основания псевдо-ЧС.\n",
    "Естественным терминатором закодированной последовательности является **\"11\"**\n",
    "\n",
    "Рекомендую использовать классы для работы с битовыми полями: BitstreamWriter и BitstreamRader."
   ]
  },
  {
   "cell_type": "code",
   "execution_count": 1,
   "metadata": {
    "scrolled": true
   },
   "outputs": [],
   "source": [
    "class BitstreamWriter:\n",
    "    def __init__(self):\n",
    "        self.nbits  = 0\n",
    "        self.curbyte = 0\n",
    "        self.vbytes = []\n",
    "\n",
    "    \"\"\" add single bit \"\"\"\n",
    "    def add(self, x):\n",
    "        self.curbyte |= x << (8-1 - (self.nbits % 8))\n",
    "        self.nbits += 1\n",
    "\n",
    "        if self.nbits % 8 == 0:\n",
    "            self.vbytes.append(chr(self.curbyte))\n",
    "            self.curbyte = 0\n",
    "\n",
    "    \"\"\" get byte-aligned bits \"\"\"\n",
    "    def getbytes(self):\n",
    "        if self.nbits & 7 == 0:\n",
    "            return \"\".join(self.vbytes)\n",
    "\n",
    "        return \"\".join(self.vbytes) + chr(self.curbyte)\n",
    "\n",
    "\n",
    "class BitstreamReader:\n",
    "    def __init__(self, blob):\n",
    "        self.blob = blob\n",
    "        self.pos  = 0\n",
    "\n",
    "    \"\"\" extract next bit \"\"\"\n",
    "    def get(self):\n",
    "        ibyte = self.pos / 8\n",
    "        ibit  = self.pos & 7\n",
    "\n",
    "        self.pos += 1\n",
    "        return (ord(self.blob[ibyte]) & (1 << (7 - ibit))) >> (7 - ibit)\n",
    "\n",
    "    def finished(self):\n",
    "        return self.pos >= len(self.blob) * 8\n"
   ]
  },
  {
   "cell_type": "markdown",
   "metadata": {},
   "source": [
    "# Код компрессии Фибоначчи\n",
    "\n",
    "Вы должны реализовать тела 2х функций - сжатия списка документов (dl) и его распаковки обратно - в список.  \n",
    "Корректность реализации проверяется набором unit-test-ов. Успешное прохождение Unit-test-ов гарантирует правильность реализации."
   ]
  },
  {
   "cell_type": "code",
   "execution_count": 2,
   "metadata": {},
   "outputs": [
    {
     "name": "stderr",
     "output_type": "stream",
     "text": [
      "FFF\n",
      "======================================================================\n",
      "FAIL: test_one_element (__main__.TestFibbonacciCompression)\n",
      "----------------------------------------------------------------------\n",
      "Traceback (most recent call last):\n",
      "  File \"<ipython-input-2-44b6ddda348c>\", line 48, in test_one_element\n",
      "    self.assertListEqual(nums, [40])\n",
      "AssertionError: Lists differ: [] != [40]\n",
      "\n",
      "Second list contains 1 additional elements.\n",
      "First extra element 0:\n",
      "40\n",
      "\n",
      "- []\n",
      "+ [40]\n",
      "\n",
      "======================================================================\n",
      "FAIL: test_random_elements (__main__.TestFibbonacciCompression)\n",
      "----------------------------------------------------------------------\n",
      "Traceback (most recent call last):\n",
      "  File \"<ipython-input-2-44b6ddda348c>\", line 58, in test_random_elements\n",
      "    self.assertListEqual(decoded, arr)\n",
      "AssertionError: Lists differ: [] != [100, 128, 173, 187, 202, 285,...\n",
      "\n",
      "Second list contains 1501 additional elements.\n",
      "First extra element 0:\n",
      "100\n",
      "\n",
      "Diff is 14797 characters long. Set self.maxDiff to None to see it.\n",
      "\n",
      "======================================================================\n",
      "FAIL: test_simple_compression (__main__.TestFibbonacciCompression)\n",
      "----------------------------------------------------------------------\n",
      "Traceback (most recent call last):\n",
      "  File \"<ipython-input-2-44b6ddda348c>\", line 43, in test_simple_compression\n",
      "    self.assertListEqual(nums, [4, 48, 115, 190])\n",
      "AssertionError: Lists differ: [] != [4, 48, 115, 190]\n",
      "\n",
      "Second list contains 4 additional elements.\n",
      "First extra element 0:\n",
      "4\n",
      "\n",
      "- []\n",
      "+ [4, 48, 115, 190]\n",
      "\n",
      "----------------------------------------------------------------------\n",
      "Ran 3 tests in 0.156s\n",
      "\n",
      "FAILED (failures=3)\n"
     ]
    },
    {
     "data": {
      "text/plain": [
       "<unittest.runner.TextTestResult run=3 errors=0 failures=3>"
      ]
     },
     "execution_count": 2,
     "metadata": {},
     "output_type": "execute_result"
    }
   ],
   "source": [
    "import unittest\n",
    "import random\n",
    "\n",
    "# Use this numbers as base to encode\n",
    "fib_nums = None\n",
    "\n",
    "def init_fibnumbers():\n",
    "    global fib_nums\n",
    "    fib_nums = [1, 2]\n",
    "\n",
    "    while True:\n",
    "        fib_nums.append(fib_nums[-2] + fib_nums[-1])\n",
    "        if fib_nums[-1] > 2**28:\n",
    "            break\n",
    "            \n",
    "init_fibnumbers()\n",
    "\n",
    "\n",
    "\"\"\"\n",
    "Input dl contains monotonically groving integers\n",
    "\"\"\"\n",
    "def compress_fblist(dl):\n",
    "    bs = BitstreamWriter()\n",
    "    \n",
    "    \"\"\" Write your code here \"\"\"\n",
    "    \n",
    "    return bs.getbytes()\n",
    "\n",
    "\n",
    "def decompress_fblist(s):\n",
    "    bs = BitstreamReader(s)\n",
    "    dl = []\n",
    "    \n",
    "    \"\"\" Write your code here \"\"\"\n",
    "\n",
    "    return dl\n",
    "\n",
    "\n",
    "class TestFibbonacciCompression(unittest.TestCase):\n",
    "    def test_simple_compression(self):\n",
    "        cb = compress_fblist([4, 48, 115, 190])\n",
    "        nums = decompress_fblist(cb)\n",
    "        self.assertListEqual(nums, [4, 48, 115, 190])\n",
    "\n",
    "    def test_one_element(self):\n",
    "        cb = compress_fblist([40])\n",
    "        nums = decompress_fblist(cb)\n",
    "        self.assertListEqual(nums, [40])\n",
    "        \n",
    "    def test_random_elements(self):\n",
    "        n = random.randint(1000, 2000)\n",
    "        arr = []\n",
    "        for i in xrange(n):\n",
    "            delta = random.randint(1, 100)\n",
    "            arr.append(delta if i == 0 else arr[i-1]+delta)\n",
    "        cb = compress_fblist(arr)\n",
    "        decoded = decompress_fblist(cb)\n",
    "        self.assertListEqual(decoded, arr)\n",
    "\n",
    "suite = unittest.TestLoader().loadTestsFromTestCase(TestFibbonacciCompression)\n",
    "unittest.TextTestRunner().run(suite)"
   ]
  },
  {
   "cell_type": "markdown",
   "metadata": {
    "collapsed": true
   },
   "source": [
    "# Сравнение с generic сжатием\n",
    "\n",
    "Сжатие, которое вы реализовали существенно более эффективно для монотоного ряда чисел.  \n",
    "Рассмотрим пример: давайте сожмем файл с большим кол-вом чисел и сравним *Fibonnaci vs Gzip*."
   ]
  },
  {
   "cell_type": "code",
   "execution_count": 3,
   "metadata": {},
   "outputs": [
    {
     "ename": "RuntimeError",
     "evalue": "Fibonacci encoding made empty string",
     "output_type": "error",
     "traceback": [
      "\u001b[0;31m---------------------------------------------------------------------------\u001b[0m",
      "\u001b[0;31mRuntimeError\u001b[0m                              Traceback (most recent call last)",
      "\u001b[0;32m<ipython-input-3-95f5503e430b>\u001b[0m in \u001b[0;36m<module>\u001b[0;34m()\u001b[0m\n\u001b[1;32m     23\u001b[0m \u001b[0;34m\u001b[0m\u001b[0m\n\u001b[1;32m     24\u001b[0m \u001b[0;32mif\u001b[0m \u001b[0;32mnot\u001b[0m \u001b[0mfblist_len\u001b[0m\u001b[0;34m:\u001b[0m\u001b[0;34m\u001b[0m\u001b[0m\n\u001b[0;32m---> 25\u001b[0;31m     \u001b[0;32mraise\u001b[0m \u001b[0mRuntimeError\u001b[0m\u001b[0;34m(\u001b[0m\u001b[0;34m\"Fibonacci encoding made empty string\"\u001b[0m\u001b[0;34m)\u001b[0m\u001b[0;34m\u001b[0m\u001b[0m\n\u001b[0m\u001b[1;32m     26\u001b[0m \u001b[0;34m\u001b[0m\u001b[0m\n\u001b[1;32m     27\u001b[0m \u001b[0;32mprint\u001b[0m \u001b[0;34m\"Compressed with gzip: %d Kb\"\u001b[0m \u001b[0;34m%\u001b[0m \u001b[0;34m(\u001b[0m\u001b[0mgzip_len\u001b[0m \u001b[0;34m/\u001b[0m \u001b[0;36m1024\u001b[0m\u001b[0;34m)\u001b[0m\u001b[0;34m\u001b[0m\u001b[0m\n",
      "\u001b[0;31mRuntimeError\u001b[0m: Fibonacci encoding made empty string"
     ]
    }
   ],
   "source": [
    "import gzip\n",
    "import random\n",
    "import cStringIO\n",
    "\n",
    "def gen_numbers(n, min_step=1, max_step=5):\n",
    "    nums = [1]\n",
    "    for i in xrange(n):\n",
    "        nums.append(nums[-1] + random.randint(min_step, max_step))   \n",
    "    return nums\n",
    "        \n",
    "def compress_gzip(nums):\n",
    "    sstream = cStringIO.StringIO()\n",
    "    zs = gzip.GzipFile(fileobj=sstream, mode='wb')\n",
    "    for n in nums:\n",
    "        zs.write(\"%d\\n\" % n)\n",
    "    zs.flush()\n",
    "    return sstream.getvalue()\n",
    "\n",
    "# поэкспериментируйте со значениями max_step\n",
    "nums = gen_numbers(n=10**5, max_step=5)\n",
    "gzip_len = len(compress_gzip(nums))\n",
    "fblist_len = len(compress_fblist(nums))\n",
    "\n",
    "if not fblist_len:\n",
    "    raise RuntimeError(\"Fibonacci encoding made empty string\")\n",
    "\n",
    "print \"Compressed with gzip: %d Kb\" % (gzip_len / 1024)\n",
    "print \"Compressed with fibonacci: %d Kb\" % (fblist_len / 1024)\n",
    "print \"Gzip/Fibonacci ratio: %.1f\" % (float(gzip_len) / fblist_len)"
   ]
  },
  {
   "cell_type": "code",
   "execution_count": null,
   "metadata": {},
   "outputs": [],
   "source": []
  }
 ],
 "metadata": {
  "kernelspec": {
   "display_name": "Python 2",
   "language": "python",
   "name": "python2"
  },
  "language_info": {
   "codemirror_mode": {
    "name": "ipython",
    "version": 2
   },
   "file_extension": ".py",
   "mimetype": "text/x-python",
   "name": "python",
   "nbconvert_exporter": "python",
   "pygments_lexer": "ipython2",
   "version": "2.7.12"
  }
 },
 "nbformat": 4,
 "nbformat_minor": 1
}
