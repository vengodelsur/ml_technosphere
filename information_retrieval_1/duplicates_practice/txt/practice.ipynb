{
 "cells": [
  {
   "cell_type": "code",
   "execution_count": 1,
   "metadata": {},
   "outputs": [],
   "source": [
    "import os\n",
    "from nltk import ngrams"
   ]
  },
  {
   "cell_type": "code",
   "execution_count": 2,
   "metadata": {},
   "outputs": [],
   "source": [
    "def char_ngrams(s, n):\n",
    "    return [s[i:i+n] for i in range(len(s)-n+1)]\n"
   ]
  },
  {
   "cell_type": "code",
   "execution_count": 3,
   "metadata": {},
   "outputs": [],
   "source": [
    "from string import punctuation\n",
    "def strip_punctuation(s):\n",
    "    return ''.join(c for c in s if c not in punctuation)"
   ]
  },
  {
   "cell_type": "code",
   "execution_count": 5,
   "metadata": {},
   "outputs": [],
   "source": [
    "def read_file(path):\n",
    "    with open(path, 'r') as content_file:\n",
    "        text = content_file.read().decode('cp1251').encode('utf8')\n",
    "        text = strip_punctuation(' '.join(text.split()))\n",
    "        return text"
   ]
  },
  {
   "cell_type": "code",
   "execution_count": 6,
   "metadata": {},
   "outputs": [],
   "source": [
    "texts = []\n",
    "for f in os.listdir(\".\"):\n",
    "    if f.endswith(\".txt\"):\n",
    "        texts.append(read_file(f))"
   ]
  },
  {
   "cell_type": "code",
   "execution_count": 7,
   "metadata": {},
   "outputs": [
    {
     "data": {
      "text/plain": [
       "6"
      ]
     },
     "execution_count": 7,
     "metadata": {},
     "output_type": "execute_result"
    }
   ],
   "source": [
    "len(texts)"
   ]
  },
  {
   "cell_type": "code",
   "execution_count": 8,
   "metadata": {},
   "outputs": [
    {
     "ename": "SyntaxError",
     "evalue": "invalid syntax (<ipython-input-8-b70075de46c4>, line 2)",
     "output_type": "error",
     "traceback": [
      "\u001b[0;36m  File \u001b[0;32m\"<ipython-input-8-b70075de46c4>\"\u001b[0;36m, line \u001b[0;32m2\u001b[0m\n\u001b[0;31m    char_ngrams =\u001b[0m\n\u001b[0m                  ^\u001b[0m\n\u001b[0;31mSyntaxError\u001b[0m\u001b[0;31m:\u001b[0m invalid syntax\n"
     ]
    }
   ],
   "source": [
    "char_ngrams_8 = []\n",
    "char_ngrams = "
   ]
  },
  {
   "cell_type": "code",
   "execution_count": 9,
   "metadata": {},
   "outputs": [],
   "source": [
    "word_ngrams = [] \n",
    "for text in texts:\n",
    "    word_ngrams.append(ngrams(text.split(), 3))\n",
    "    "
   ]
  },
  {
   "cell_type": "code",
   "execution_count": 10,
   "metadata": {},
   "outputs": [
    {
     "data": {
      "text/plain": [
       "[<generator object ngrams at 0x7fd8901223c0>,\n",
       " <generator object ngrams at 0x7fd890122230>,\n",
       " <generator object ngrams at 0x7fd890122500>,\n",
       " <generator object ngrams at 0x7fd890122690>,\n",
       " <generator object ngrams at 0x7fd890122730>,\n",
       " <generator object ngrams at 0x7fd890122a00>]"
      ]
     },
     "execution_count": 10,
     "metadata": {},
     "output_type": "execute_result"
    }
   ],
   "source": [
    "word_ngrams"
   ]
  },
  {
   "cell_type": "code",
   "execution_count": null,
   "metadata": {},
   "outputs": [],
   "source": []
  },
  {
   "cell_type": "code",
   "execution_count": 15,
   "metadata": {},
   "outputs": [],
   "source": [
    "def _get_order_function(num):\n",
    "        basis = [1663, 1999, 2203, 2381, 2411,\n",
    "                 2657, 2789, 2843, 2861, 2909,\n",
    "                 2953, 3169, 3217, 3259, 3491,\n",
    "                 3467, 3469, 3499, 3511, 27644437]\n",
    "        return lambda x: divmod(x, basis[num])[1]"
   ]
  },
  {
   "cell_type": "code",
   "execution_count": 24,
   "metadata": {},
   "outputs": [
    {
     "data": {
      "text/plain": [
       "2192"
      ]
     },
     "execution_count": 24,
     "metadata": {},
     "output_type": "execute_result"
    }
   ],
   "source": [
    "_get_order_function(-2)(100500)"
   ]
  },
  {
   "cell_type": "code",
   "execution_count": 25,
   "metadata": {},
   "outputs": [],
   "source": [
    "def addition(x):\n",
    "    return lambda y: x + y\n",
    "add_to_ten = addition(10)"
   ]
  },
  {
   "cell_type": "code",
   "execution_count": 41,
   "metadata": {},
   "outputs": [],
   "source": [
    "from itertools import combinations, chain, dropwhile\n",
    "from collections import Counter"
   ]
  },
  {
   "cell_type": "code",
   "execution_count": 57,
   "metadata": {},
   "outputs": [],
   "source": [
    "docs_by_shingle = {'abc': [1, 2, 3, 4, 5], 'ab': [1, 2, 3, 4], 'ac': [1, 2]}"
   ]
  },
  {
   "cell_type": "code",
   "execution_count": 58,
   "metadata": {},
   "outputs": [],
   "source": [
    "counts = Counter(chain.from_iterable(combinations(doc_list, 2) for doc_list in docs_by_shingle.values() if len(doc_list) > 1))"
   ]
  },
  {
   "cell_type": "code",
   "execution_count": 59,
   "metadata": {},
   "outputs": [
    {
     "data": {
      "text/plain": [
       "Counter({(1, 2): 3,\n",
       "         (1, 3): 2,\n",
       "         (1, 4): 2,\n",
       "         (1, 5): 1,\n",
       "         (2, 3): 2,\n",
       "         (2, 4): 2,\n",
       "         (2, 5): 1,\n",
       "         (3, 4): 2,\n",
       "         (3, 5): 1,\n",
       "         (4, 5): 1})"
      ]
     },
     "execution_count": 59,
     "metadata": {},
     "output_type": "execute_result"
    }
   ],
   "source": [
    "counts"
   ]
  },
  {
   "cell_type": "code",
   "execution_count": 61,
   "metadata": {},
   "outputs": [
    {
     "data": {
      "text/plain": [
       "[((1, 2), 3),\n",
       " ((1, 3), 2),\n",
       " ((1, 4), 2),\n",
       " ((2, 3), 2),\n",
       " ((3, 4), 2),\n",
       " ((2, 4), 2),\n",
       " ((4, 5), 1),\n",
       " ((1, 5), 1),\n",
       " ((2, 5), 1),\n",
       " ((3, 5), 1)]"
      ]
     },
     "execution_count": 61,
     "metadata": {},
     "output_type": "execute_result"
    }
   ],
   "source": [
    "counts.most_common()"
   ]
  },
  {
   "cell_type": "code",
   "execution_count": 62,
   "metadata": {},
   "outputs": [],
   "source": [
    "for key, count in dropwhile(lambda key_count: key_count[1] >= 2, counts.most_common()):\n",
    "    del counts[key]"
   ]
  },
  {
   "cell_type": "code",
   "execution_count": 63,
   "metadata": {},
   "outputs": [
    {
     "data": {
      "text/plain": [
       "Counter({(1, 2): 3, (1, 3): 2, (1, 4): 2, (2, 3): 2, (2, 4): 2, (3, 4): 2})"
      ]
     },
     "execution_count": 63,
     "metadata": {},
     "output_type": "execute_result"
    }
   ],
   "source": [
    "counts"
   ]
  },
  {
   "cell_type": "code",
   "execution_count": 66,
   "metadata": {},
   "outputs": [
    {
     "name": "stdout",
     "output_type": "stream",
     "text": [
      "(1, 2) 3\n",
      "(1, 3) 2\n",
      "(1, 4) 2\n",
      "(2, 3) 2\n",
      "(3, 4) 2\n",
      "(2, 4) 2\n"
     ]
    }
   ],
   "source": [
    "for key, count in counts.iteritems():\n",
    "    print key, count"
   ]
  },
  {
   "cell_type": "code",
   "execution_count": null,
   "metadata": {},
   "outputs": [],
   "source": []
  }
 ],
 "metadata": {
  "kernelspec": {
   "display_name": "Python 2",
   "language": "python",
   "name": "python2"
  },
  "language_info": {
   "codemirror_mode": {
    "name": "ipython",
    "version": 2
   },
   "file_extension": ".py",
   "mimetype": "text/x-python",
   "name": "python",
   "nbconvert_exporter": "python",
   "pygments_lexer": "ipython2",
   "version": "2.7.12"
  }
 },
 "nbformat": 4,
 "nbformat_minor": 2
}
